{
 "cells": [
  {
   "cell_type": "code",
   "execution_count": 1,
   "id": "0266a95a",
   "metadata": {},
   "outputs": [],
   "source": [
    "from consumption_data import ConsumptionDataFile\n",
    "import datetime\n",
    "import pandas as pd\n",
    "import matplotlib.pyplot as plt"
   ]
  },
  {
   "cell_type": "code",
   "execution_count": 2,
   "id": "f0709276",
   "metadata": {},
   "outputs": [],
   "source": [
    "# instantiate a ConsumptionData concrete instance. It is a stub for now, but will be changed to a production version later\n",
    "# cd = ConsumptionDataStub()\n",
    "# changed to use the real data\n",
    "cd = ConsumptionDataFile(\"Annual Smart Meter Consumption.csv\")"
   ]
  },
  {
   "cell_type": "code",
   "execution_count": 3,
   "id": "42deeba2",
   "metadata": {},
   "outputs": [],
   "source": [
    "# Generate a list of days in January 2022\n",
    "datelist = list(map(lambda d: datetime.datetime(year=2022,month=1,day=d), range(1,32)))"
   ]
  },
  {
   "cell_type": "code",
   "execution_count": 4,
   "id": "219dd666",
   "metadata": {},
   "outputs": [],
   "source": [
    "# define a couple of convenience methods to generate a timestamp for the beginning and end of the calendar day.\n",
    "def getstarttimestampforday(d: datetime) -> int:\n",
    "    return int(datetime.datetime(d.year, d.month, d.day).timestamp())\n",
    "def getendtimestampforday(d: datetime) -> int:\n",
    "    return int((d + datetime.timedelta(days=1)).timestamp())"
   ]
  },
  {
   "cell_type": "code",
   "execution_count": 5,
   "id": "bca8e561",
   "metadata": {},
   "outputs": [],
   "source": [
    "# call ConsumptionData with a list of pairs of timestamps to get the consumption for the graph\n",
    "consumptionlist = list(map(lambda d: cd.get_usage_for_range(getstarttimestampforday(d),getendtimestampforday(d)), datelist))"
   ]
  },
  {
   "cell_type": "code",
   "execution_count": 6,
   "id": "47b0f5d9",
   "metadata": {},
   "outputs": [],
   "source": [
    "data = {'date': datelist, 'consumption': consumptionlist}\n",
    "df = pd.DataFrame(data = data)"
   ]
  },
  {
   "cell_type": "code",
   "execution_count": 7,
   "id": "d4b8f3c4",
   "metadata": {},
   "outputs": [
    {
     "data": {
      "text/plain": [
       "(array([18993., 18997., 19001., 19005., 19009., 19013., 19017., 19021.,\n",
       "        19024.]),\n",
       " [Text(0, 0, ''),\n",
       "  Text(0, 0, ''),\n",
       "  Text(0, 0, ''),\n",
       "  Text(0, 0, ''),\n",
       "  Text(0, 0, ''),\n",
       "  Text(0, 0, ''),\n",
       "  Text(0, 0, ''),\n",
       "  Text(0, 0, ''),\n",
       "  Text(0, 0, '')])"
      ]
     },
     "execution_count": 7,
     "metadata": {},
     "output_type": "execute_result"
    },
    {
     "data": {
      "image/png": "[encoded data removed]",
      "text/plain": [
       "<Figure size 432x288 with 1 Axes>"
      ]
     },
     "metadata": {
      "needs_background": "light"
     },
     "output_type": "display_data"
    }
   ],
   "source": [
    "plt.bar(df['date'],df['consumption'])\n",
    "plt.xticks(rotation = 90)"
   ]
  },
  {
   "cell_type": "code",
   "execution_count": null,
   "id": "b7a3a13e-93eb-48f9-b240-1c6b0437628e",
   "metadata": {},
   "outputs": [],
   "source": []
  }
 ],
 "metadata": {
  "kernelspec": {
   "display_name": "Python 3 (ipykernel)",
   "language": "python",
   "name": "python3"
  },
  "language_info": {
   "codemirror_mode": {
    "name": "ipython",
    "version": 3
   },
   "file_extension": ".py",
   "mimetype": "text/x-python",
   "name": "python",
   "nbconvert_exporter": "python",
   "pygments_lexer": "ipython3",
   "version": "3.9.12"
  }
 },
 "nbformat": 4,
 "nbformat_minor": 5
}
