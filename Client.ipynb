{
 "cells": [
  {
   "cell_type": "code",
   "execution_count": 11,
   "id": "0266a95a",
   "metadata": {
    "scrolled": false
   },
   "outputs": [],
   "source": [
    "from consumption_data_stub import ConsumptionDataStub"
   ]
  },
  {
   "cell_type": "code",
   "execution_count": 12,
   "id": "f0709276",
   "metadata": {},
   "outputs": [],
   "source": [
    "data = ConsumptionDataStub()"
   ]
  },
  {
   "cell_type": "code",
   "execution_count": 13,
   "id": "bca8e561",
   "metadata": {},
   "outputs": [
    {
     "data": {
      "text/plain": [
       "11392"
      ]
     },
     "execution_count": 13,
     "metadata": {},
     "output_type": "execute_result"
    }
   ],
   "source": [
    "data.get_usage_for_range(23,24)"
   ]
  }
 ],
 "metadata": {
  "kernelspec": {
   "display_name": "Python 3 (ipykernel)",
   "language": "python",
   "name": "python3"
  },
  "language_info": {
   "codemirror_mode": {
    "name": "ipython",
    "version": 3
   },
   "file_extension": ".py",
   "mimetype": "text/x-python",
   "name": "python",
   "nbconvert_exporter": "python",
   "pygments_lexer": "ipython3",
   "version": "3.9.7"
  }
 },
 "nbformat": 4,
 "nbformat_minor": 5
}
