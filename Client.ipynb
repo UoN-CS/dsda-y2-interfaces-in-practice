{
 "cells": [
  {
   "cell_type": "code",
   "execution_count": 10,
   "id": "0266a95a",
   "metadata": {
    "scrolled": false
   },
   "outputs": [],
   "source": [
    "from consumption_data_stub import ConsumptionDataStub\n",
    "import datetime\n",
    "import pandas as pd\n",
    "import matplotlib.pyplot as plt"
   ]
  },
  {
   "cell_type": "code",
   "execution_count": 11,
   "id": "f0709276",
   "metadata": {},
   "outputs": [],
   "source": [
    "// instantiate a ConsumptionData concrete instance. It is a stub for now, but will be changed to a production version later\n",
    "cd = ConsumptionDataStub()"
   ]
  },
  {
   "cell_type": "code",
   "execution_count": 12,
   "id": "61eda60a",
   "metadata": {},
   "outputs": [],
   "source": [
    "daylist = list()"
   ]
  },
  {
   "cell_type": "code",
   "execution_count": 13,
   "id": "42deeba2",
   "metadata": {},
   "outputs": [],
   "source": [
    "// Generate a list of days in January 2020\n",
    "datelist = list(map(lambda d: datetime.datetime(2020,1,d), range(1,31)))"
   ]
  },
  {
   "cell_type": "code",
   "execution_count": 26,
   "id": "219dd666",
   "metadata": {},
   "outputs": [],
   "source": [
    "// definte a couple of convenience methods to generate a timestamp for the beginning and end of the calendar day.\n",
    "def getstarttimestampforday(d: datetime) -> datetime:\n",
    "    starttime = datetime.datetime(d.year, d.month, d.day, 0,0,0).timestamp()\n",
    "def getendtimestampforday(d: datetime) -> datetime:\n",
    "    starttime = datetime.datetime(d.year, d.month, d.day, 23,59,59).timestamp()"
   ]
  },
  {
   "cell_type": "code",
   "execution_count": 27,
   "id": "bca8e561",
   "metadata": {},
   "outputs": [],
   "source": [
    "// call ConsumptionData with a list of pairs of timestamps to get the consumption for the graph\n",
    "consumptionlist = list(map(lambda d: cd.get_usage_for_range(getstarttimestampforday(d),getstarttimestampforday(d)), datelist))"
   ]
  },
  {
   "cell_type": "code",
   "execution_count": 28,
   "id": "a35e85b6",
   "metadata": {},
   "outputs": [],
   "source": []
  },
  {
   "cell_type": "code",
   "execution_count": 29,
   "id": "47b0f5d9",
   "metadata": {},
   "outputs": [],
   "source": [
    "data = {'date': datelist, 'consumption': consumptionlist}\n",
    "f = pd.DataFrame(data = data)"
   ]
  },
  {
   "cell_type": "code",
   "execution_count": 30,
   "id": "d4b8f3c4",
   "metadata": {},
   "outputs": [
    {
     "data": {
      "text/plain": [
       "(array([18262., 18266., 18270., 18274., 18278., 18282., 18286., 18290.]),\n",
       " [Text(0, 0, ''),\n",
       "  Text(0, 0, ''),\n",
       "  Text(0, 0, ''),\n",
       "  Text(0, 0, ''),\n",
       "  Text(0, 0, ''),\n",
       "  Text(0, 0, ''),\n",
       "  Text(0, 0, ''),\n",
       "  Text(0, 0, '')])"
      ]
     },
     "execution_count": 30,
     "metadata": {},
     "output_type": "execute_result"
    },
    {
     "data": {
      "image/png": "[encoded data removed]",
      "text/plain": [
       "<Figure size 432x288 with 1 Axes>"
      ]
     },
     "metadata": {
      "needs_background": "light"
     },
     "output_type": "display_data"
    }
   ],
   "source": [
    "plt.bar(df['date'],df['consumption'])\n",
    "plt.xticks(rotation = 90)"
   ]
  }
 ],
 "metadata": {
  "kernelspec": {
   "display_name": "Python 3 (ipykernel)",
   "language": "python",
   "name": "python3"
  },
  "language_info": {
   "codemirror_mode": {
    "name": "ipython",
    "version": 3
   },
   "file_extension": ".py",
   "mimetype": "text/x-python",
   "name": "python",
   "nbconvert_exporter": "python",
   "pygments_lexer": "ipython3",
   "version": "3.9.7"
  }
 },
 "nbformat": 4,
 "nbformat_minor": 5
}
